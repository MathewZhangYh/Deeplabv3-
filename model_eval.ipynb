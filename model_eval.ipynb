{
 "cells": [
  {
   "cell_type": "code",
   "execution_count": 1,
   "id": "3c954813",
   "metadata": {
    "collapsed": false,
    "jupyter": {
     "outputs_hidden": false
    },
    "pycharm": {
     "name": "#%%\n"
    }
   },
   "outputs": [],
   "source": [
    "import os\n",
    "import cv2\n",
    "import numpy as np\n",
    "import torch\n",
    "import torch.nn.functional as F\n",
    "from PIL import Image\n",
    "from torch import nn\n",
    "\n",
    "from nets.deeplabv3_plus import DeepLab\n",
    "from utils.utils import cvtColor, preprocess_input, resize_image"
   ]
  },
  {
   "cell_type": "markdown",
   "id": "7e431996",
   "metadata": {
    "pycharm": {
     "name": "#%% md\n"
    }
   },
   "source": [
    "## generate validation mask"
   ]
  },
  {
   "cell_type": "code",
   "execution_count": 2,
   "id": "b752cefe",
   "metadata": {
    "collapsed": false,
    "jupyter": {
     "outputs_hidden": false
    },
    "pycharm": {
     "name": "#%%\n"
    }
   },
   "outputs": [],
   "source": [
    "class Detection(object):\n",
    "    _defaults = {\"model_path\" : 'logs/best_model.pth',\"num_classes\" : 2,\n",
    "                 \"input_shape\" : [512, 512],\"cuda\" : True,\n",
    "    }\n",
    "    def __init__(self, **kwargs):\n",
    "        self.__dict__.update(self._defaults)\n",
    "        for name, value in kwargs.items():\n",
    "            setattr(self, name, value)\n",
    "        #   画框的颜色\n",
    "        self.colors = [ (0, 0, 0), (128, 0, 0)]\n",
    "        self.generate()\n",
    "    #   获得所有的分类\n",
    "    def generate(self):\n",
    "        #   载入模型与权值\n",
    "        self.net = DeepLab(num_classes=self.num_classes)\n",
    "\n",
    "        device = torch.device('cuda' if torch.cuda.is_available() else 'cpu')\n",
    "        self.net.load_state_dict(torch.load(self.model_path, map_location=device))\n",
    "        self.net = self.net.eval()\n",
    "\n",
    "        if self.cuda:\n",
    "            self.net = nn.DataParallel(self.net)\n",
    "            self.net = self.net.cuda()\n",
    "\n",
    "    def get_detection(self, image):\n",
    "        #   代码仅仅支持RGB图像的预测，所有其它类型的图像都会转化成RGB\n",
    "        image = cvtColor(image)\n",
    "        orininal_h = np.array(image).shape[0]\n",
    "        orininal_w = np.array(image).shape[1]\n",
    "\n",
    "        image_data, nw, nh = resize_image(image, (self.input_shape[1],self.input_shape[0]))\n",
    "        #   添加上batch_size维度\n",
    "        image_data = np.expand_dims(np.transpose(preprocess_input(np.array(image_data, np.float32)), (2, 0, 1)), 0)\n",
    "\n",
    "        with torch.no_grad():\n",
    "            images = torch.from_numpy(image_data)\n",
    "            if self.cuda:\n",
    "                images = images.cuda()\n",
    "\n",
    "            pr = self.net(images)[0]\n",
    "            #   取出每一个像素点的种类\n",
    "            pr = F.softmax(pr.permute(1,2,0),dim = -1).cpu().numpy()\n",
    "            #   将灰条部分截取掉\n",
    "            pr = pr[int((self.input_shape[0] - nh) // 2) : int((self.input_shape[0] - nh) // 2 + nh), \\\n",
    "                    int((self.input_shape[1] - nw) // 2) : int((self.input_shape[1] - nw) // 2 + nw)]\n",
    "            #   进行图片的resize\n",
    "            pr = cv2.resize(pr, (orininal_w, orininal_h), interpolation = cv2.INTER_LINEAR)\n",
    "            #   取出每一个像素点的种类\n",
    "            pr = pr.argmax(axis=-1)\n",
    "\n",
    "        image = Image.fromarray(np.uint8(pr))\n",
    "        return image"
   ]
  },
  {
   "cell_type": "markdown",
   "id": "148b16c2",
   "metadata": {
    "pycharm": {
     "name": "#%% md\n"
    }
   },
   "source": [
    "## from hist to miou"
   ]
  },
  {
   "cell_type": "code",
   "execution_count": 3,
   "id": "d8f0f875",
   "metadata": {
    "collapsed": false,
    "jupyter": {
     "outputs_hidden": false
    },
    "pycharm": {
     "name": "#%%\n"
    }
   },
   "outputs": [],
   "source": [
    "# 设标签宽W，长H\n",
    "def fast_hist(a, b, n):\n",
    "    # a是转化成一维数组的标签，形状(H×W,)；b是转化成一维数组的预测结果，形状(H×W,)\n",
    "    k = (a >= 0) & (a < n)\n",
    "    # np.bincount计算了从0到n**2-1这n**2个数中每个数出现的次数，返回值形状(n, n)\n",
    "    # 返回中，写对角线上的为分类正确的像素点\n",
    "    return np.bincount(n * a[k].astype(int) + b[k], minlength=n ** 2).reshape(n, n)\n",
    "\n",
    "def per_class_iu(hist):\n",
    "    return np.diag(hist) / np.maximum((hist.sum(1) + hist.sum(0) - np.diag(hist)), 1)\n",
    "\n",
    "def cal_miou(gt_dir, pred_dir, png_name_list, num_classes):\n",
    "    # 创建一个全是0的矩阵，是一个混淆矩阵\n",
    "    hist = np.zeros((num_classes, num_classes))\n",
    "    # 获得验证集标签路径列表，获得验证集图像分割结果路径列表，方便直接读取\n",
    "    gt_imgs = [os.path.join(gt_dir, x + \".png\") for x in png_name_list]\n",
    "    pred_imgs = [os.path.join(pred_dir, x + \".png\") for x in png_name_list]\n",
    "    # 读取每一个（图片-标签）对\n",
    "    for ind in range(len(gt_imgs)):\n",
    "        # 读取一张图像分割结果，转化成numpy数组\n",
    "        pred = np.array(Image.open(pred_imgs[ind]))\n",
    "        # 读取一张对应的标签，转化成numpy数组\n",
    "        label = np.array(Image.open(gt_imgs[ind]))\n",
    "        # 如果图像分割结果与标签的大小不一样，这张图片就不计算\n",
    "        if len(label.flatten()) != len(pred.flatten()):  \n",
    "            print(\n",
    "                'Skipping: len(gt) = {:d}, len(pred) = {:d}, {:s}, {:s}'.format(\n",
    "                    len(label.flatten()), len(pred.flatten()), gt_imgs[ind],\n",
    "                    pred_imgs[ind]))\n",
    "            continue\n",
    "        # 对一张图片计算2×2的hist矩阵，并累加\n",
    "        hist += fast_hist(label.flatten(), pred.flatten(), num_classes)\n",
    "    # 计算所有验证集图片的逐类别mIoU值\n",
    "    miou = per_class_iu(hist)\n",
    "    # 在所有验证集图像上求所有类别平均的mIoU值，计算时忽略NaN值\n",
    "    print('===> miou: ' + str(round(np.nanmean(miou) * 100, 2)))"
   ]
  },
  {
   "cell_type": "markdown",
   "id": "3366a7a4",
   "metadata": {
    "pycharm": {
     "name": "#%% md\n"
    }
   },
   "source": [
    "## from mask to boundary iou"
   ]
  },
  {
   "cell_type": "code",
   "execution_count": 4,
   "id": "8ae34aa6",
   "metadata": {
    "collapsed": false,
    "jupyter": {
     "outputs_hidden": false
    },
    "pycharm": {
     "name": "#%%\n"
    }
   },
   "outputs": [],
   "source": [
    "#mask--->boundary\n",
    "def mask_to_boundary(mask, dilation_ratio=0.02):\n",
    "    h, w = mask.shape\n",
    "    img_diag = np.sqrt(h ** 2 + w ** 2) # 计算图像对角线长度\n",
    "    dilation = int(round(dilation_ratio * img_diag))\n",
    "    if dilation < 1:\n",
    "        dilation = 1\n",
    "    # Pad image so mask truncated by the image border is also considered as boundary.\n",
    "    new_mask = cv2.copyMakeBorder(mask, 1, 1, 1, 1, cv2.BORDER_CONSTANT, value=0)\n",
    "    kernel = np.ones((3, 3), dtype=np.uint8)\n",
    "    new_mask_erode = cv2.erode(new_mask, kernel, iterations=dilation)   \n",
    "    # 因为之前向四周填充了0, 故而这里不再需要四周\n",
    "    mask_erode = new_mask_erode[1 : h + 1, 1 : w + 1]   \n",
    "    # G_d intersects G in the paper.\n",
    "    return mask - mask_erode\n",
    "\n",
    "#计算boundary iou\n",
    "def boundary_iou(gt, dt, dilation_ratio=0.02):\n",
    "    gt_boundary = mask_to_boundary(gt, dilation_ratio)\n",
    "    dt_boundary = mask_to_boundary(dt, dilation_ratio)\n",
    "    intersection = ((gt_boundary * dt_boundary) > 0).sum()\n",
    "    union = ((gt_boundary + dt_boundary) > 0).sum()\n",
    "    if union < 1:\n",
    "    \treturn 0\n",
    "    boundary_iou = intersection / union\n",
    "    return boundary_iou"
   ]
  },
  {
   "cell_type": "markdown",
   "id": "fb921527",
   "metadata": {
    "pycharm": {
     "name": "#%% md\n"
    }
   },
   "source": [
    "## calculate m_iou, boundary iou"
   ]
  },
  {
   "cell_type": "code",
   "execution_count": 5,
   "id": "a25be863",
   "metadata": {
    "collapsed": false,
    "jupyter": {
     "outputs_hidden": false
    },
    "pycharm": {
     "name": "#%%\n"
    }
   },
   "outputs": [
    {
     "name": "stdout",
     "output_type": "stream",
     "text": [
      "----------------------------\n",
      "===> miou: 94.35\n",
      "===> boundary iou: 74.62\n",
      "----------------------------\n"
     ]
    }
   ],
   "source": [
    "num_classes = 2\n",
    "#   指向数据集所在的文件夹\n",
    "dataset_path = 'weizmann_horse_db'\n",
    "\n",
    "image_ids = open(os.path.join(dataset_path, \"datasets/val.txt\"),'r').read().splitlines()\n",
    "gt_dir = os.path.join(dataset_path, \"mask/\")\n",
    "pred_dir = \"detection\"\n",
    "\n",
    "boundary_iou_list = []\n",
    "if not os.path.exists(pred_dir):\n",
    "    os.makedirs(pred_dir)\n",
    "\n",
    "Detect = Detection()\n",
    "\n",
    "for image_id in image_ids:\n",
    "    image_path = os.path.join(dataset_path, \"horse/\"+image_id+\".jpg\")\n",
    "    image = Image.open(image_path)\n",
    "    image = Detect.get_detection(image)\n",
    "    image.save(os.path.join(pred_dir, image_id + \".png\"))\n",
    "    \n",
    "    gt_path = os.path.join(dataset_path, \"mask/\"+image_id+\".png\")\n",
    "    img_gt = Image.open(gt_path)\n",
    "    gt = np.array(img_gt)\n",
    "    \n",
    "    gt_path = os.path.join(pred_dir, image_id+\".png\")\n",
    "    img_dt = Image.open(gt_path)\n",
    "    dt = np.array(img_dt)\n",
    "    \n",
    "    b_iou = boundary_iou(gt, dt, dilation_ratio=0.02)\n",
    "    boundary_iou_list.append(b_iou)\n",
    "print(\"----------------------------\")\n",
    "cal_miou(gt_dir, pred_dir, image_ids, num_classes)  # 执行计算mIoU的函数\n",
    "print('===> boundary iou: ' + str(round(np.nanmean(boundary_iou_list) * 100, 2)))\n",
    "print(\"----------------------------\")"
   ]
  }
 ],
 "metadata": {
  "kernelspec": {
   "display_name": "Python [conda env:pytorch1_2]",
   "language": "python",
   "name": "conda-env-pytorch1_2-py"
  },
  "language_info": {
   "codemirror_mode": {
    "name": "ipython",
    "version": 3
   },
   "file_extension": ".py",
   "mimetype": "text/x-python",
   "name": "python",
   "nbconvert_exporter": "python",
   "pygments_lexer": "ipython3",
   "version": "3.6.13"
  }
 },
 "nbformat": 4,
 "nbformat_minor": 5
}
