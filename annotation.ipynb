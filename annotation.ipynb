{
 "cells": [
  {
   "cell_type": "code",
   "execution_count": 1,
   "id": "a19873b0-636f-4b02-99f0-1d851cd3c44c",
   "metadata": {
    "pycharm": {
     "is_executing": true,
     "name": "#%%\n"
    }
   },
   "outputs": [],
   "source": [
    "import os\n",
    "import random\n",
    "\n",
    "train_percent       = 0.85\n",
    "dataset_path      = 'weizmann_horse_db'\n",
    "random.seed(0)"
   ]
  },
  {
   "cell_type": "code",
   "execution_count": 2,
   "id": "8e52cbf9-22bf-4381-a38d-8b35c7e152f2",
   "metadata": {
    "pycharm": {
     "name": "#%%\n"
    }
   },
   "outputs": [
    {
     "name": "stdout",
     "output_type": "stream",
     "text": [
      "train size 277\n"
     ]
    }
   ],
   "source": [
    "segfilepath     = os.path.join(dataset_path, 'mask')\n",
    "saveBasePath    = os.path.join(dataset_path, 'datasets')\n",
    "\n",
    "temp_seg = os.listdir(segfilepath)\n",
    "total_seg = []\n",
    "for seg in temp_seg:\n",
    "    if seg.endswith(\".png\"):\n",
    "        total_seg.append(seg)\n",
    "\n",
    "num = len(total_seg)  \n",
    "list = range(num)  \n",
    "tv = int(num)\n",
    "tr = int(tv*train_percent)  \n",
    "trainval = random.sample(list,tv)  \n",
    "train = random.sample(trainval,tr)  \n",
    "\n",
    "ftrainval = open(os.path.join(saveBasePath,'trainval.txt'), 'w')  \n",
    "ftest = open(os.path.join(saveBasePath,'test.txt'), 'w')  \n",
    "ftrain = open(os.path.join(saveBasePath,'train.txt'), 'w')  \n",
    "fval = open(os.path.join(saveBasePath,'val.txt'), 'w')  \n",
    "\n",
    "for i in list:  \n",
    "    name = total_seg[i][:-4]+'\\n'  \n",
    "    if i in trainval:  \n",
    "        ftrainval.write(name)  \n",
    "        if i in train:  \n",
    "            ftrain.write(name)  \n",
    "        else:  \n",
    "            fval.write(name)  \n",
    "    else:  \n",
    "        ftest.write(name)  \n",
    "\n",
    "ftrainval.close()  \n",
    "ftrain.close()  \n",
    "fval.close()  \n",
    "ftest.close()\n",
    "\n",
    "print(\"train size\",tr)"
   ]
  },
  {
   "cell_type": "code",
   "execution_count": null,
   "id": "f3029a56-2c66-4ba3-b2c1-0690d18e95be",
   "metadata": {
    "pycharm": {
     "name": "#%%\n"
    }
   },
   "outputs": [],
   "source": []
  }
 ],
 "metadata": {
  "kernelspec": {
   "display_name": "Python 3 (ipykernel)",
   "language": "python",
   "name": "python3"
  },
  "language_info": {
   "codemirror_mode": {
    "name": "ipython",
    "version": 3
   },
   "file_extension": ".py",
   "mimetype": "text/x-python",
   "name": "python",
   "nbconvert_exporter": "python",
   "pygments_lexer": "ipython3",
   "version": "3.9.7"
  }
 },
 "nbformat": 4,
 "nbformat_minor": 5
}
